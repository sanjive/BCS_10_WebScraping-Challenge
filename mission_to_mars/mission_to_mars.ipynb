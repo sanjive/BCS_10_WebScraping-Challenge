{
 "cells": [
  {
   "cell_type": "markdown",
   "metadata": {
    "slideshow": {
     "slide_type": "slide"
    }
   },
   "source": [
    "# Scraping with BeautifulSoup, Splinter and Pandas"
   ]
  },
  {
   "cell_type": "code",
   "execution_count": 1,
   "metadata": {
    "ExecuteTime": {
     "end_time": "2020-05-23T02:46:04.347803Z",
     "start_time": "2020-05-23T02:46:03.381253Z"
    },
    "slideshow": {
     "slide_type": "slide"
    }
   },
   "outputs": [],
   "source": [
    "# Import required libraries\n",
    "from bs4 import BeautifulSoup\n",
    "from splinter import Browser\n",
    "import pandas as pd\n",
    "import time\n",
    "import requests as req\n",
    "import pprint as pp"
   ]
  },
  {
   "cell_type": "markdown",
   "metadata": {},
   "source": [
    "# Invoking Chromedriver for Windows users"
   ]
  },
  {
   "cell_type": "code",
   "execution_count": 2,
   "metadata": {
    "ExecuteTime": {
     "end_time": "2020-05-23T02:46:07.632801Z",
     "start_time": "2020-05-23T02:46:04.479513Z"
    },
    "code_folding": []
   },
   "outputs": [],
   "source": [
    "# Invoke the chromedriver/browser to read the html pages for scraping/parsing the data.\n",
    "executable_path = {'executable_path': 'chromedriver.exe'}\n",
    "browser = Browser('chrome', **executable_path, headless=False)"
   ]
  },
  {
   "cell_type": "markdown",
   "metadata": {},
   "source": [
    "# NASA Mars News Site"
   ]
  },
  {
   "cell_type": "code",
   "execution_count": 3,
   "metadata": {
    "ExecuteTime": {
     "end_time": "2020-05-23T02:46:11.314563Z",
     "start_time": "2020-05-23T02:46:07.635685Z"
    }
   },
   "outputs": [],
   "source": [
    "# Setup the Chrome browser\n",
    "nasa_url = 'https://mars.nasa.gov/news/'\n",
    "browser.visit(nasa_url)\n",
    "\n",
    "# wait for 2 secs for the browser to load\n",
    "time.sleep(2)"
   ]
  },
  {
   "cell_type": "markdown",
   "metadata": {},
   "source": [
    "## Invoking the browser via chromedriver and scraping"
   ]
  },
  {
   "cell_type": "code",
   "execution_count": 4,
   "metadata": {
    "ExecuteTime": {
     "end_time": "2020-05-23T02:46:12.659463Z",
     "start_time": "2020-05-23T02:46:12.476919Z"
    }
   },
   "outputs": [
    {
     "name": "stdout",
     "output_type": "stream",
     "text": [
      "-----------\n",
      " href: https://mars.nasa.gov/news//news/8677/air-deliveries-bring-nasas-perseverance-mars-rover-closer-to-launch/\n",
      "Title: Air Deliveries Bring NASA's Perseverance Mars Rover Closer to Launch\n",
      " Text: A NASA Wallops Flight Facility cargo plane transported more than two tons of equipment — including the rover's sample collection tubes — to Florida for this summer's liftoff.\n"
     ]
    }
   ],
   "source": [
    "# HTML object\n",
    "html = browser.html\n",
    "\n",
    "# Parse HTML with BeautifulSoup\n",
    "soup = BeautifulSoup(html, 'html.parser')\n",
    "\n",
    "# Scrape the NASA Mars News Site and collect the latest News Title and Paragraph Text.\n",
    "# Assign the text to variables that you can reference later.\n",
    "# Use Beautiful Soup's find() method to navigate and retrieve news\n",
    "news = soup.find('div', class_='image_and_description_container')\n",
    "news_title = news.find('div', class_='content_title').find('a').text\n",
    "news_p = news.find('div', class_='article_teaser_body').text\n",
    "news_href = nasa_url + news.find('div', class_='content_title').find('a')['href']\n",
    "\n",
    "#news_title = newsies.find('div', class='bottom_gradient')\n",
    "print(f'-----------')\n",
    "print(f' href: {news_href}')\n",
    "print(f'Title: {news_title}')\n",
    "print(f' Text: {news_p}')\n"
   ]
  },
  {
   "cell_type": "markdown",
   "metadata": {
    "slideshow": {
     "slide_type": "subslide"
    }
   },
   "source": [
    "## JPL Mars Space Images - Featured Image"
   ]
  },
  {
   "cell_type": "markdown",
   "metadata": {
    "ExecuteTime": {
     "end_time": "2020-05-18T20:29:44.153174Z",
     "start_time": "2020-05-18T20:29:44.149187Z"
    }
   },
   "source": [
    "### Navigate to the specifified url"
   ]
  },
  {
   "cell_type": "code",
   "execution_count": 5,
   "metadata": {
    "ExecuteTime": {
     "end_time": "2020-05-23T02:46:19.104815Z",
     "start_time": "2020-05-23T02:46:17.272209Z"
    }
   },
   "outputs": [],
   "source": [
    "# Visit JPL Mars Space Images through splinter module\n",
    "# This is a 3 step process\n",
    "\n",
    "jpl_url = 'https://www.jpl.nasa.gov'\n",
    "featured_page_url = 'https://www.jpl.nasa.gov/spaceimages/?search=&category=Mars'\n",
    "    \n",
    "# Invoke the chromebrowser and navigate to the 'featured_page_url' and get the html object to it\n",
    "browser.visit(featured_page_url)\n",
    "\n",
    "# HTML Object \n",
    "html_image = browser.html\n",
    "\n",
    "# Parse HTML with Beautiful Soup\n",
    "soup = BeautifulSoup(html_image, 'html.parser')"
   ]
  },
  {
   "cell_type": "markdown",
   "metadata": {
    "ExecuteTime": {
     "end_time": "2020-05-18T20:32:55.752873Z",
     "start_time": "2020-05-18T20:32:55.749881Z"
    }
   },
   "source": [
    "### Get the url to the details page"
   ]
  },
  {
   "cell_type": "code",
   "execution_count": 6,
   "metadata": {
    "ExecuteTime": {
     "end_time": "2020-05-23T02:46:21.850855Z",
     "start_time": "2020-05-23T02:46:21.844869Z"
    }
   },
   "outputs": [
    {
     "name": "stdout",
     "output_type": "stream",
     "text": [
      "https://www.jpl.nasa.gov/spaceimages/details.php?id=PIA17841\n"
     ]
    }
   ],
   "source": [
    "# Get the url for the detailed image\n",
    "featured_url = soup.find('a', class_='button fancybox')['data-link']\n",
    "#print(featured_url)\n",
    "image_detail_url = jpl_url + featured_url\n",
    "\n",
    "# Print the URL for the image to be used for getting the fullsize image URL\n",
    "print(image_detail_url)"
   ]
  },
  {
   "cell_type": "markdown",
   "metadata": {
    "ExecuteTime": {
     "end_time": "2020-05-18T20:32:55.848622Z",
     "start_time": "2020-05-18T20:32:55.844654Z"
    }
   },
   "source": [
    "### Extract the full image url from the details html page."
   ]
  },
  {
   "cell_type": "code",
   "execution_count": 7,
   "metadata": {
    "ExecuteTime": {
     "end_time": "2020-05-23T02:46:24.827564Z",
     "start_time": "2020-05-23T02:46:22.287922Z"
    }
   },
   "outputs": [
    {
     "name": "stdout",
     "output_type": "stream",
     "text": [
      "https://www.jpl.nasa.gov/spaceimages/images/largesize/PIA17841_hires.jpg\n"
     ]
    }
   ],
   "source": [
    "# Use the URL from above to invoke the html page and extract the url for the Largeimage\n",
    "browser.visit(image_detail_url)\n",
    "\n",
    "# wait for 1 secs for the browser to load\n",
    "time.sleep(1)\n",
    "\n",
    "# HTML object\n",
    "html = browser.html\n",
    "\n",
    "# Parse HTML with Beautiful Soup for the html page returned from above\n",
    "soup = BeautifulSoup(html, 'html.parser')\n",
    "fullres_url = soup.find('article').find('figure', class_='lede').find('a')['href']\n",
    "featured_image_url = jpl_url + fullres_url\n",
    "\n",
    "# Print the URL for the largesize image\n",
    "print(featured_image_url)"
   ]
  },
  {
   "cell_type": "markdown",
   "metadata": {},
   "source": [
    "## Mars weather"
   ]
  },
  {
   "cell_type": "markdown",
   "metadata": {},
   "source": [
    "### Visit the Mars Weather Twitter account\n",
    "twitter account - https://twitter.com/marswxreport?lang=en here and scrape the latest Mars weather tweet from the page. Save the tweet text for the weather report as a variable called mars_weather."
   ]
  },
  {
   "cell_type": "code",
   "execution_count": 8,
   "metadata": {
    "ExecuteTime": {
     "end_time": "2020-05-23T02:46:36.581693Z",
     "start_time": "2020-05-23T02:46:25.341776Z"
    }
   },
   "outputs": [
    {
     "name": "stdout",
     "output_type": "stream",
     "text": [
      "InSight sol 528 (2020-05-22)\n",
      "\r",
      " low -93.5ºC (-136.3ºF)\n",
      "\r",
      " high -5.3ºC (22.4ºF)\n",
      "\r",
      " winds from the SW at 6.3 m/s (14.0 mph)\n",
      "\r",
      " gusting to 23.6 m/s (52.8 mph)\n",
      "\r",
      " pressure at 7.10 hPa\n"
     ]
    }
   ],
   "source": [
    "# Invoke the chromedriver/browser to read the html pages for scraping/parsing the data.\n",
    "# executable_path = {'executable_path': 'chromedriver.exe'}\n",
    "# browser = Browser('chrome', **executable_path, headless=False)\n",
    "\n",
    "twitter_mars_url = 'https://twitter.com/marswxreport?lang=en'\n",
    "\n",
    "# Invoke the chromebrowser and navigate to the 'twitter_mars_url' and get the html object to it\n",
    "browser.visit(twitter_mars_url)\n",
    "\n",
    "# wait for 10 secs for the browser to load\n",
    "time.sleep(10)\n",
    "\n",
    "# HTML object\n",
    "html = browser.html\n",
    "\n",
    "# Parse HTML with Beautiful Soup for the html page returned from above.\n",
    "soup = BeautifulSoup(html, 'html.parser')\n",
    "\n",
    "# Parse HTML with Beautiful Soup for the html page returned from above.\n",
    "# Find all the tweets by 'div' and  class', then get the first tweet for the latest weather info.\n",
    "\n",
    "tweets = soup.find_all('div', class_='css-901oao r-hkyrab r-1qd0xha r-a023e6 r-16dba41 r-ad9z0x r-bcqeeo r-bnwqim r-qvutc0')\n",
    "\n",
    "# Get the latest tweet and replace the new line ('\\n') character with a space (' ') character.\n",
    "latest_tweet = tweets[0].find('span').text.replace('\\n', ' ')\n",
    "\n",
    "# Print out the weather, use the new line ('\\n') and line break ('\\r') characters to make the printout readable.\n",
    "print(latest_tweet.replace(')', ')\\n\\r'))"
   ]
  },
  {
   "cell_type": "markdown",
   "metadata": {
    "ExecuteTime": {
     "end_time": "2020-05-19T14:58:55.627243Z",
     "start_time": "2020-05-19T14:58:55.624225Z"
    }
   },
   "source": [
    "## Mars Facts"
   ]
  },
  {
   "cell_type": "markdown",
   "metadata": {},
   "source": [
    "### Visit the Mars Facts Webpage and get the facts using Pandas\n",
    "Visit the Mars Facts webpage here and use Pandas to scrape the table containing facts about the planet including Diameter, Mass, etc."
   ]
  },
  {
   "cell_type": "code",
   "execution_count": 9,
   "metadata": {
    "ExecuteTime": {
     "end_time": "2020-05-23T02:46:37.134341Z",
     "start_time": "2020-05-23T02:46:36.583687Z"
    }
   },
   "outputs": [],
   "source": [
    "#Mars space facts url\n",
    "mars_facts_url = 'https://space-facts.com/mars/'\n",
    "\n",
    "#use Pandas to scrape the planet profile\n",
    "mars_facts = pd.read_html(mars_facts_url)\n",
    "mars_facts_df = mars_facts[0]"
   ]
  },
  {
   "cell_type": "code",
   "execution_count": 10,
   "metadata": {
    "ExecuteTime": {
     "end_time": "2020-05-23T02:46:41.746261Z",
     "start_time": "2020-05-23T02:46:41.733291Z"
    }
   },
   "outputs": [
    {
     "data": {
      "text/plain": [
       "[{'#': 0, 'Fact': 'Equatorial Diameter:', 'Detail': '6,792 km'},\n",
       " {'#': 1, 'Fact': 'Polar Diameter:', 'Detail': '6,752 km'},\n",
       " {'#': 2, 'Fact': 'Mass:', 'Detail': '6.39 × 10^23 kg (0.11 Earths)'},\n",
       " {'#': 3, 'Fact': 'Moons:', 'Detail': '2 (Phobos & Deimos)'},\n",
       " {'#': 4, 'Fact': 'Orbit Distance:', 'Detail': '227,943,824 km (1.38 AU)'},\n",
       " {'#': 5, 'Fact': 'Orbit Period:', 'Detail': '687 days (1.9 years)'},\n",
       " {'#': 6, 'Fact': 'Surface Temperature:', 'Detail': '-87 to -5 °C'},\n",
       " {'#': 7, 'Fact': 'First Record:', 'Detail': '2nd millennium BC'},\n",
       " {'#': 8, 'Fact': 'Recorded By:', 'Detail': 'Egyptian astronomers'}]"
      ]
     },
     "execution_count": 10,
     "metadata": {},
     "output_type": "execute_result"
    }
   ],
   "source": [
    "mars_facts_list = []\n",
    "for index, row in mars_facts_df.iterrows():\n",
    "    # print(index, row[0], row[1])\n",
    "    mars_facts_list.append({'#' : index,'Fact' : row[0], 'Detail' : row[1]})        \n",
    "mars_facts_list    "
   ]
  },
  {
   "cell_type": "code",
   "execution_count": 11,
   "metadata": {
    "ExecuteTime": {
     "end_time": "2020-05-23T02:46:45.489664Z",
     "start_time": "2020-05-23T02:46:45.484682Z"
    }
   },
   "outputs": [
    {
     "name": "stdout",
     "output_type": "stream",
     "text": [
      "[['Equatorial Diameter:', '6,792 km'], ['Polar Diameter:', '6,752 km'], ['Mass:', '6.39 × 10^23 kg (0.11 Earths)'], ['Moons:', '2 (Phobos & Deimos)'], ['Orbit Distance:', '227,943,824 km (1.38 AU)'], ['Orbit Period:', '687 days (1.9 years)'], ['Surface Temperature:', '-87 to -5 °C'], ['First Record:', '2nd millennium BC'], ['Recorded By:', 'Egyptian astronomers']]\n"
     ]
    }
   ],
   "source": [
    "mars_facts_list = mars_facts_df.values.tolist()\n",
    "print(mars_facts_list)"
   ]
  },
  {
   "cell_type": "code",
   "execution_count": 12,
   "metadata": {
    "ExecuteTime": {
     "end_time": "2020-05-23T02:46:50.092036Z",
     "start_time": "2020-05-23T02:46:50.088080Z"
    }
   },
   "outputs": [],
   "source": [
    "# # Name the columns of the DataFrame\n",
    "# mars_facts_df.columns = ['Fact', 'Detail']\n",
    "# mars_facts_df.set_index('Fact', inplace=True)\n",
    "\n",
    "# # Display the Mars Facts DataFrame\n",
    "# mars_facts_df"
   ]
  },
  {
   "cell_type": "markdown",
   "metadata": {},
   "source": [
    "###  Use Pandas to convert the data to a HTML table string."
   ]
  },
  {
   "cell_type": "code",
   "execution_count": null,
   "metadata": {
    "ExecuteTime": {
     "end_time": "2020-05-22T22:32:40.879098Z",
     "start_time": "2020-05-22T22:32:40.868127Z"
    }
   },
   "outputs": [],
   "source": [
    "# Pandas Dataframe converted to html table\n",
    "mars_facts_table_html = mars_facts_df.to_html()\n",
    "print(mars_facts_table_html)"
   ]
  },
  {
   "cell_type": "code",
   "execution_count": null,
   "metadata": {
    "ExecuteTime": {
     "end_time": "2020-05-22T22:32:41.975874Z",
     "start_time": "2020-05-22T22:32:41.971857Z"
    }
   },
   "outputs": [],
   "source": [
    "# html version with new line charcaters removed.\n",
    "mars_facts_table_html = mars_facts_table_html.replace(\"\\n\", \"\")\n",
    "mars_facts_table_html"
   ]
  },
  {
   "cell_type": "markdown",
   "metadata": {},
   "source": [
    "## Mars Hemispheres\n",
    "* Visit the USGS Astrogeology site (https://astrogeology.usgs.gov/search/results?q=hemisphere+enhanced&k1=target&v1=Mars) to obtain high resolution images for each of Mar's hemispheres.\n",
    "* You will need to click each of the links to the hemispheres in order to find the image url to the full resolution image.\n",
    "* Save both the image url string for the full resolution hemisphere image, and the Hemisphere title containing the hemisphere name. Use a Python dictionary to store the data using the keys img_url and title.\n",
    "* Append the dictionary with the image url string and the hemisphere title to a list. This list will contain one dictionary for each hemisphere.\n",
    "\n",
    "Example:\n",
    "```\n",
    "hemisphere_image_urls = [\n",
    "{\"title\": \"Valles Marineris Hemisphere\", \"img_url\": \"...\"},\n",
    "{\"title\": \"Cerberus Hemisphere\", \"img_url\": \"...\"},\n",
    "{\"title\": \"Schiaparelli Hemisphere\", \"img_url\": \"...\"},\n",
    "{\"title\": \"Syrtis Major Hemisphere\", \"img_url\": \"...\"},\n",
    "]\n",
    "```"
   ]
  },
  {
   "cell_type": "code",
   "execution_count": null,
   "metadata": {
    "ExecuteTime": {
     "end_time": "2020-05-22T22:33:09.426522Z",
     "start_time": "2020-05-22T22:32:45.301673Z"
    }
   },
   "outputs": [],
   "source": [
    "# Visit hemispheres website through splinter module \n",
    "hemispheres_url = 'https://astrogeology.usgs.gov/search/results?q=hemisphere+enhanced&k1=target&v1=Mars'\n",
    "browser.visit(hemispheres_url)\n",
    "\n",
    "# wait for 2 secs for the browser to load\n",
    "time.sleep(2)\n",
    "\n",
    "# HTML Object\n",
    "html_hemispheres = browser.html\n",
    "\n",
    "# Parse HTML with Beautiful Soup\n",
    "soup = BeautifulSoup(html_hemispheres, 'html.parser')\n",
    "\n",
    "# Retreive all items that contain mars hemispheres information\n",
    "items_list = soup.find_all('div', class_='item')\n",
    "\n",
    "# Display the Item list with the hemispheres information\n",
    "items_list"
   ]
  },
  {
   "cell_type": "code",
   "execution_count": null,
   "metadata": {
    "ExecuteTime": {
     "end_time": "2020-05-22T21:52:01.624576Z",
     "start_time": "2020-05-22T21:51:55.977973Z"
    }
   },
   "outputs": [],
   "source": [
    "# Store the base url \n",
    "hemispheres_base_url = 'https://astrogeology.usgs.gov'\n",
    "\n",
    "# Create empty list for hemisphere urls \n",
    "hemispheres_image_urls = []\n",
    "\n",
    "# Loop through the items_list retrived in teh previous step\n",
    "for i in items_list: \n",
    "    # Store title\n",
    "    title = i.find('h3').text\n",
    "    \n",
    "    # Store link that leads to full image website\n",
    "    partial_img_url = i.find('a', class_='itemLink product-item')['href']\n",
    "    \n",
    "    # Visit the link that contains the full image website \n",
    "    browser.visit(hemispheres_base_url + partial_img_url)\n",
    "    \n",
    "    # HTML Object of individual hemisphere information website \n",
    "    html = browser.html\n",
    "    \n",
    "    # Parse HTML with Beautiful Soup for every individual hemisphere information website \n",
    "    soup = BeautifulSoup(html, 'html.parser')\n",
    "    \n",
    "    # Retrieve full image source \n",
    "    img_url = hemispheres_base_url + soup.find('img', class_='wide-image')['src']\n",
    "    \n",
    "    # Append the retreived information into a list of dictionaries \n",
    "    hemispheres_image_urls.append({'title' : title, 'img_url' : img_url})\n",
    "\n",
    "#Quit the browser before exiting the application\n",
    "browser.quit()\n",
    "    \n",
    "# Display the hemispheres image URL list    \n",
    "hemispheres_image_urls"
   ]
  },
  {
   "cell_type": "code",
   "execution_count": null,
   "metadata": {
    "ExecuteTime": {
     "end_time": "2020-05-22T21:52:14.259667Z",
     "start_time": "2020-05-22T21:52:14.253684Z"
    }
   },
   "outputs": [],
   "source": [
    "?hemispheres_image_urls"
   ]
  },
  {
   "cell_type": "code",
   "execution_count": null,
   "metadata": {},
   "outputs": [],
   "source": [
    "# 2020-05-19 17:56:50 "
   ]
  }
 ],
 "metadata": {
  "kernelspec": {
   "display_name": "Python 3.7.6 64-bit ('PythonData2020_1': conda)",
   "language": "python",
   "name": "python37664bitpythondata20201conda6baabde948e8485c8acdbdb1f5c8dec5"
  },
  "language_info": {
   "codemirror_mode": {
    "name": "ipython",
    "version": 3
   },
   "file_extension": ".py",
   "mimetype": "text/x-python",
   "name": "python",
   "nbconvert_exporter": "python",
   "pygments_lexer": "ipython3",
   "version": "3.8.2"
  },
  "latex_envs": {
   "LaTeX_envs_menu_present": true,
   "autoclose": false,
   "autocomplete": true,
   "bibliofile": "biblio.bib",
   "cite_by": "apalike",
   "current_citInitial": 1,
   "eqLabelWithNumbers": true,
   "eqNumInitial": 1,
   "hotkeys": {
    "equation": "Ctrl-E",
    "itemize": "Ctrl-I"
   },
   "labels_anchors": false,
   "latex_user_defs": false,
   "report_style_numbering": false,
   "user_envs_cfg": false
  },
  "toc": {
   "base_numbering": 1,
   "nav_menu": {},
   "number_sections": true,
   "sideBar": true,
   "skip_h1_title": false,
   "title_cell": "Table of Contents",
   "title_sidebar": "Contents",
   "toc_cell": false,
   "toc_position": {},
   "toc_section_display": true,
   "toc_window_display": false
  },
  "varInspector": {
   "cols": {
    "lenName": 16,
    "lenType": 16,
    "lenVar": 40
   },
   "kernels_config": {
    "python": {
     "delete_cmd_postfix": "",
     "delete_cmd_prefix": "del ",
     "library": "var_list.py",
     "varRefreshCmd": "print(var_dic_list())"
    },
    "r": {
     "delete_cmd_postfix": ") ",
     "delete_cmd_prefix": "rm(",
     "library": "var_list.r",
     "varRefreshCmd": "cat(var_dic_list()) "
    }
   },
   "types_to_exclude": [
    "module",
    "function",
    "builtin_function_or_method",
    "instance",
    "_Feature"
   ],
   "window_display": false
  }
 },
 "nbformat": 4,
 "nbformat_minor": 2
}
